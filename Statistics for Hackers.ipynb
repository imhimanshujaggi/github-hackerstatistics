{
 "cells": [
  {
   "cell_type": "markdown",
   "metadata": {},
   "source": [
    "## Hacker Statistics:\n",
    "\n",
    "More oftent than not, we have sample measured data, for which we can easily get the numerical statistics, \n",
    "however, if we measure the data again for the same process under consideration, we mayn't get the same mean/median.\n",
    "Hence, we need probability to come up with an interval rather than fixed statistics.\n",
    "\n",
    "> to draw probailistic conclusions about what we might expect if we collected the same data again\n",
    "\n",
    "> , OR the prcoess by which we go from measured data to probabiliistic conclusion\n",
    "\n",
    "\n",
    "Instead of repeating the process of measuring data, Use simulations to compute probability"
   ]
  },
  {
   "cell_type": "markdown",
   "metadata": {},
   "source": [
    "## Coin Flip:\n",
    "    \n",
    "#'np.random.random' = draws a number between 0 & 1 with equal probabiliity. if number < .5, then heads else tails\n",
    "\n",
    ">Experiment which has two options True/False, called Bernaulli trial, and is best approximated by Binomial distribution"
   ]
  },
  {
   "cell_type": "markdown",
   "metadata": {},
   "source": [
    "# Simulating 4 coin flips:"
   ]
  },
  {
   "cell_type": "code",
   "execution_count": 31,
   "metadata": {},
   "outputs": [
    {
     "data": {
      "text/plain": [
       "array([0.37454012, 0.95071431, 0.73199394, 0.59865848])"
      ]
     },
     "execution_count": 31,
     "metadata": {},
     "output_type": "execute_result"
    }
   ],
   "source": [
    "import numpy as np\n",
    "np.random.seed(42)\n",
    "random_numbers = np.random.random(size=4) # provide 4 random numbers b/w 0 and 1 with equal probability\n",
    "random_numbers"
   ]
  },
  {
   "cell_type": "code",
   "execution_count": 36,
   "metadata": {},
   "outputs": [
    {
     "data": {
      "text/plain": [
       "1"
      ]
     },
     "execution_count": 36,
     "metadata": {},
     "output_type": "execute_result"
    }
   ],
   "source": [
    "heads = random_numbers <.5\n",
    "np.sum(heads) # in numerical context, python treats 1 as True and 0 as False,  so you can sum it up.\n",
    "#number of heads when flipped a coin 4 times"
   ]
  },
  {
   "cell_type": "markdown",
   "metadata": {},
   "source": [
    "# What is the probability of getting 4 heads when tossing a coin 4 times. "
   ]
  },
  {
   "cell_type": "code",
   "execution_count": 35,
   "metadata": {},
   "outputs": [
    {
     "data": {
      "text/plain": [
       "0.062"
      ]
     },
     "execution_count": 35,
     "metadata": {},
     "output_type": "execute_result"
    }
   ],
   "source": [
    "\n",
    "# simulate coin flip 1000's of times to approximate the probabiliity\n",
    "\n",
    "#HHHH = (1/16)\n",
    "\n",
    "all_heads =0\n",
    "for _ in range(10000):\n",
    "    heads = np.random.random(size=4) <.5\n",
    "    n_heads =np.sum(heads)\n",
    "    if n_heads ==4:\n",
    "        all_heads = all_heads+1\n",
    "\n",
    "all_heads/10000"
   ]
  },
  {
   "cell_type": "markdown",
   "metadata": {},
   "source": [
    "# In essence,\n",
    "Hacker statistics is about thinking:\n",
    "   > How to simulate your data\n",
    "   > simulate many many times\n"
   ]
  },
  {
   "cell_type": "markdown",
   "metadata": {},
   "source": [
    "# The np.random module and Bernoulli trials\n",
    "You can think of a Bernoulli trial as a flip of a possibly biased coin. Specifically, each coin flip has a probability `p` of landing heads (success) and probability `1−p` of landing tails (failure). In this exercise, you will write a function to perform n Bernoulli trials, `perform_bernoulli_trials(n, p)`, which returns the number of successes out of n Bernoulli trials, each of which has probability p of success. To perform each Bernoulli trial, use the `np.random.random()` function, which returns a random number between zero and one."
   ]
  },
  {
   "cell_type": "code",
   "execution_count": 42,
   "metadata": {},
   "outputs": [],
   "source": [
    "# since it is a biased coin, `p` can't be fixed and has to be parameterised. if np.random.random < p, then heads else tails\n",
    "\n",
    "def perform_bernoulli_trials(n, p):\n",
    "    n_successess = 0\n",
    "    for i in range(n): # since we need to measure probability, we need to simulate the data (say 10000's) of times\n",
    "        x= np.random.random()\n",
    "        if x <p: # if x is less than p; p=.5 in case of unbiased coin, and p is not equal to .5, in case of biased coin\n",
    "            n_successess = n_successess+1\n",
    "    return n_successess #will give total flips, for probability divide this metric by n\n",
    "        \n",
    "\n"
   ]
  },
  {
   "cell_type": "code",
   "execution_count": 46,
   "metadata": {},
   "outputs": [
    {
     "data": {
      "text/plain": [
       "46"
      ]
     },
     "execution_count": 46,
     "metadata": {},
     "output_type": "execute_result"
    }
   ],
   "source": [
    "perform_bernoulli_trials(100,.5)"
   ]
  },
  {
   "cell_type": "markdown",
   "metadata": {},
   "source": [
    "## How many defaults might we expect?\n",
    "Let's say a bank made `100` mortgage loans. It is possible that anywhere between 0 and 100 of the loans will be defaulted upon. You would like to know the probability of getting a given number of defaults, given that the probability of a default is `p = 0.05`. To investigate this, you will do a simulation. You will perform 100 Bernoulli trials using the `perform_bernoulli_trials()` function you wrote in the previous exercise and record how many defaults we get. Here, a success is a default. (Remember that the word \"success\" just means that the Bernoulli trial evaluates to True, i.e., did the loan recipient default?) You will do this for another 100 Bernoulli trials. And again and again until we have tried it 1000 times. Then, you will plot a histogram describing the probability of the number of defaults.\n",
    "\n",
    "> Please note over here, we're going from measured data to probabilistic conclusion. We know that out of 100 loans, 5 would default, but how would the overall probability distribution looks like so that area under the curve is 1"
   ]
  },
  {
   "cell_type": "code",
   "execution_count": 50,
   "metadata": {},
   "outputs": [
    {
     "name": "stderr",
     "output_type": "stream",
     "text": [
      "/Users/hjaggi/opt/anaconda3/lib/python3.7/site-packages/ipykernel_launcher.py:6: MatplotlibDeprecationWarning: \n",
      "The 'normed' kwarg was deprecated in Matplotlib 2.1 and will be removed in 3.1. Use 'density' instead.\n",
      "  \n"
     ]
    },
    {
     "data": {
      "image/png": "[encoded data removed]",
      "text/plain": [
       "<Figure size 432x288 with 1 Axes>"
      ]
     },
     "metadata": {
      "needs_background": "light"
     },
     "output_type": "display_data"
    }
   ],
   "source": [
    "import matplotlib.pyplot as plt\n",
    "n_defaults = np.empty(1000)\n",
    "for i in range(1000):\n",
    "    n_defaults[i]= perform_bernoulli_trials(100, .05)\n",
    "\n",
    "_ = plt.hist(n_defaults, normed  =True)\n",
    "_ = plt.xlabel('number of defaults out of 100 loans')\n",
    "_ = plt.ylabel('probability')\n",
    "_ = plt.show()"
   ]
  }
 ],
 "metadata": {
  "kernelspec": {
   "display_name": "Python 3",
   "language": "python",
   "name": "python3"
  },
  "language_info": {
   "codemirror_mode": {
    "name": "ipython",
    "version": 3
   },
   "file_extension": ".py",
   "mimetype": "text/x-python",
   "name": "python",
   "nbconvert_exporter": "python",
   "pygments_lexer": "ipython3",
   "version": "3.7.6"
  }
 },
 "nbformat": 4,
 "nbformat_minor": 4
}
