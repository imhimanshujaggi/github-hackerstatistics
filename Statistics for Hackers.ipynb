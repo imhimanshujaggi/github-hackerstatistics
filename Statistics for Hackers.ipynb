{
 "cells": [
  {
   "cell_type": "markdown",
   "metadata": {},
   "source": [
    "## Hacker Statistics:\n",
    "\n",
    "More oftent than not, we have sample measured data, for which we can easily get the numerical statistics, \n",
    "however, if we measure the data again for the same process under consideration, we mayn't get the same mean/median.\n",
    "Hence, we need probability to come up with an interval rather than fixed statistics.\n",
    "\n",
    "> to draw probailistic conclusions about what we might expect if we collected the same data again\n",
    "\n",
    "> , OR the prcoess by which we go from measured data to probabiliistic conclusion\n",
    "\n",
    "\n",
    "Instead of repeating the process of measuring data, Use simulations to compute probability"
   ]
  },
  {
   "cell_type": "markdown",
   "metadata": {},
   "source": [
    "## Coin Flip:\n",
    "    \n",
    "Function `np.random.random()` = draws a number between 0 & 1 with equal probabiliity. \n",
    "If `number < .5`, consider heads else tails\n",
    "\n",
    ">Experiment which has two options True/False, called Bernaulli trial, and is best approximated by Binomial distribution"
   ]
  },
  {
   "cell_type": "markdown",
   "metadata": {},
   "source": [
    "# Simulating 4 coin flips:"
   ]
  },
  {
   "cell_type": "code",
   "execution_count": 31,
   "metadata": {},
   "outputs": [
    {
     "data": {
      "text/plain": [
       "array([0.37454012, 0.95071431, 0.73199394, 0.59865848])"
      ]
     },
     "execution_count": 31,
     "metadata": {},
     "output_type": "execute_result"
    }
   ],
   "source": [
    "import numpy as np\n",
    "np.random.seed(42)\n",
    "random_numbers = np.random.random(size=4) # provide 4 random numbers b/w 0 and 1 with equal probability\n",
    "random_numbers"
   ]
  },
  {
   "cell_type": "code",
   "execution_count": 36,
   "metadata": {},
   "outputs": [
    {
     "data": {
      "text/plain": [
       "1"
      ]
     },
     "execution_count": 36,
     "metadata": {},
     "output_type": "execute_result"
    }
   ],
   "source": [
    "heads = random_numbers <.5\n",
    "np.sum(heads) # in numerical context, python treats 1 as True and 0 as False,  so you can sum it up.\n",
    "#number of heads when flipped a coin 4 times"
   ]
  },
  {
   "cell_type": "markdown",
   "metadata": {},
   "source": [
    "# What is the probability of getting 4 heads when tossing a coin 4 times. "
   ]
  },
  {
   "cell_type": "code",
   "execution_count": 35,
   "metadata": {},
   "outputs": [
    {
     "data": {
      "text/plain": [
       "0.062"
      ]
     },
     "execution_count": 35,
     "metadata": {},
     "output_type": "execute_result"
    }
   ],
   "source": [
    "\n",
    "# simulate coin flip 1000's of times to approximate the probabiliity\n",
    "\n",
    "#HHHH = (1/16)\n",
    "\n",
    "all_heads =0\n",
    "for _ in range(10000):\n",
    "    heads = np.random.random(size=4) <.5\n",
    "    n_heads =np.sum(heads)\n",
    "    if n_heads ==4:\n",
    "        all_heads = all_heads+1\n",
    "\n",
    "all_heads/10000"
   ]
  },
  {
   "cell_type": "markdown",
   "metadata": {},
   "source": [
    "# In essence,\n",
    "Hacker statistics is about thinking:\n",
    "   > How to simulate your data\n",
    "   > simulate many many times\n"
   ]
  },
  {
   "cell_type": "markdown",
   "metadata": {},
   "source": [
    "# The np.random module and Bernoulli trials\n",
    "You can think of a Bernoulli trial as a flip of a possibly biased coin. Specifically, each coin flip has a probability `p` of landing heads (success) and probability `1−p` of landing tails (failure). In this exercise, you will write a function to perform n Bernoulli trials, `perform_bernoulli_trials(n, p)`, which returns the number of successes out of n Bernoulli trials, each of which has probability p of success. To perform each Bernoulli trial, use the `np.random.random()` function, which returns a random number between zero and one."
   ]
  },
  {
   "cell_type": "code",
   "execution_count": 42,
   "metadata": {},
   "outputs": [],
   "source": [
    "# since it is a biased coin, `p` can't be fixed and has to be parameterised. if np.random.random < p, then heads else tails\n",
    "\n",
    "def perform_bernoulli_trials(n, p):\n",
    "    n_successess = 0\n",
    "    for i in range(n): # since we need to measure probability, we need to simulate the data (say 10000's) of times\n",
    "        x= np.random.random()\n",
    "        if x <p: # if x is less than p; p=.5 in case of unbiased coin, and p is not equal to .5, in case of biased coin\n",
    "            n_successess = n_successess+1\n",
    "    return n_successess #will give total flips, for probability divide this metric by n\n",
    "        \n",
    "\n"
   ]
  },
  {
   "cell_type": "code",
   "execution_count": 46,
   "metadata": {},
   "outputs": [
    {
     "data": {
      "text/plain": [
       "46"
      ]
     },
     "execution_count": 46,
     "metadata": {},
     "output_type": "execute_result"
    }
   ],
   "source": [
    "perform_bernoulli_trials(100,.5)"
   ]
  },
  {
   "cell_type": "markdown",
   "metadata": {},
   "source": [
    "## How many defaults might we expect?\n",
    "Let's say a bank made `100` mortgage loans. It is possible that anywhere between 0 and 100 of the loans will be defaulted upon. You would like to know the probability of getting a given number of defaults, given that the probability of a default is `p = 0.05`. To investigate this, you will do a simulation. You will perform 100 Bernoulli trials using the `perform_bernoulli_trials()` function you wrote in the previous exercise and record how many defaults we get. Here, a success is a default. (Remember that the word \"success\" just means that the Bernoulli trial evaluates to True, i.e., did the loan recipient default?) You will do this for another 100 Bernoulli trials. And again and again until we have tried it 1000 times. Then, you will plot a histogram describing the probability of the number of defaults.\n",
    "\n",
    "> Please note over here, we're going from measured data to probabilistic conclusion. We know that out of 100 loans, 5 would default, but how would the overall probability distribution looks like so that area under the curve is 1"
   ]
  },
  {
   "cell_type": "code",
   "execution_count": 50,
   "metadata": {},
   "outputs": [
    {
     "name": "stderr",
     "output_type": "stream",
     "text": [
      "/Users/hjaggi/opt/anaconda3/lib/python3.7/site-packages/ipykernel_launcher.py:6: MatplotlibDeprecationWarning: \n",
      "The 'normed' kwarg was deprecated in Matplotlib 2.1 and will be removed in 3.1. Use 'density' instead.\n",
      "  \n"
     ]
    },
    {
     "data": {
      "image/png": "[encoded data removed]",
      "text/plain": [
       "<Figure size 432x288 with 1 Axes>"
      ]
     },
     "metadata": {
      "needs_background": "light"
     },
     "output_type": "display_data"
    }
   ],
   "source": [
    "import matplotlib.pyplot as plt\n",
    "n_defaults = np.empty(1000)\n",
    "for i in range(1000):\n",
    "    n_defaults[i]= perform_bernoulli_trials(100, .05)\n",
    "\n",
    "_ = plt.hist(n_defaults, normed  =True)\n",
    "_ = plt.xlabel('number of defaults out of 100 loans')\n",
    "_ = plt.ylabel('probability')\n",
    "_ = plt.show()"
   ]
  },
  {
   "cell_type": "markdown",
   "metadata": {},
   "source": [
    "# Discrete Uniform PMF\n",
    "> Discrete Uniform PMF:set of probabilities of discrete outcome\n",
    "The outcome of rolling a single fair die is:\n",
    "Discrete\n",
    "Uniformly distributed\n",
    "\n",
    "# Binomial Distribution:\n",
    "\n",
    "> The number `r` of successes in Bernaulli trials with probability `p`of success is binomially distributed\n"
   ]
  },
  {
   "cell_type": "code",
   "execution_count": 55,
   "metadata": {},
   "outputs": [
    {
     "data": {
      "text/plain": [
       "array([4, 0, 2, 2, 3, 2, 3, 3, 2, 2])"
      ]
     },
     "execution_count": 55,
     "metadata": {},
     "output_type": "execute_result"
    }
   ],
   "source": [
    "np.random.binomial(4, .5, size =10)\n",
    "\n",
    "# how many heads we're getting when a coin is flipped n times with p(heads) =.5\n",
    "# Probability distribution of successes when we flip a coin."
   ]
  },
  {
   "cell_type": "markdown",
   "metadata": {},
   "source": [
    "# Sampling out of the Binomial distribution\n",
    "Compute the probability mass function for the number of defaults we would expect for 100 loans as in the last section, but instead of simulating all of the Bernoulli trials, perform the sampling using `np.random.binomial()`. This is identical to the calculation you did in the last set of exercises using your custom-written `perform_bernoulli_trials()` function, but far more computationally efficient. Given this extra efficiency, we will take 10,000 samples instead of 1000. After taking the samples, plot the CDF as last time. This CDF that you are plotting is that of the Binomial distribution."
   ]
  },
  {
   "cell_type": "code",
   "execution_count": 63,
   "metadata": {},
   "outputs": [
    {
     "data": {
      "text/plain": [
       "(array([ 389.,  753., 3158., 1860., 2516.,  695.,  516.,   73.,   34.,\n",
       "           6.]),\n",
       " array([ 0. ,  1.5,  3. ,  4.5,  6. ,  7.5,  9. , 10.5, 12. , 13.5, 15. ]),\n",
       " <a list of 10 Patch objects>)"
      ]
     },
     "execution_count": 63,
     "metadata": {},
     "output_type": "execute_result"
    },
    {
     "data": {
      "image/png": "[encoded data removed]",
      "text/plain": [
       "<Figure size 432x288 with 1 Axes>"
      ]
     },
     "metadata": {
      "needs_background": "light"
     },
     "output_type": "display_data"
    }
   ],
   "source": [
    "n_defaults = np.empty(10000)\n",
    "n_defaults = np.random.binomial(100,.05,size =10000)\n",
    "\n",
    "import matplotlib.pyplot as plt\n",
    "plt.hist(n_defaults)"
   ]
  },
  {
   "cell_type": "markdown",
   "metadata": {},
   "source": [
    "# Poisson Process and distribution\n",
    "   > The timing of the next event is completely independent of when the previous event happened\n",
    "   \n",
    "   > In rare event, when p is low and n is high for bernaulli trials, the distribution can be thought of as Poisson \n",
    "   distribution \n",
    "   \n",
    "   > Poisson distribution has only one parameter - the mean number (n*p) of successes per time interval\n",
    "   \n",
    " Examples\n",
    " - Natural birth in hospital\n",
    " - Website clicks\n",
    " \n",
    "Poisson distribution is the limit of the Binomial distribution for low  probability of success and large number of trials - rare events"
   ]
  },
  {
   "cell_type": "code",
   "execution_count": 64,
   "metadata": {},
   "outputs": [
    {
     "data": {
      "text/plain": [
       "array([ 6, 10,  5, ...,  7,  5,  6])"
      ]
     },
     "execution_count": 64,
     "metadata": {},
     "output_type": "execute_result"
    }
   ],
   "source": [
    "np.random.poisson (6,size =10000)"
   ]
  },
  {
   "cell_type": "markdown",
   "metadata": {},
   "source": [
    "# Relationship between Binomial and Poisson distributions\n",
    "You just heard that the Poisson distribution is a limit of the Binomial distribution for rare events. This makes sense if you think about the stories. Say we do a Bernoulli trial every minute for an hour, each with a success probability of 0.1. We would do 60 trials, and the number of successes is Binomially distributed, and we would expect to get about 6 successes. This is the Poisson story, where we get on average 6 hits on a website per hour. So, the Poisson distribution with arrival rate equal to `np` approximates a Binomial distribution for `n` Bernoulli trials with probability `p` of success (with n large and p small). Importantly, the Poisson distribution is often simpler to work with because it has only one parameter instead of two for the Binomial distribution.\n",
    "\n",
    "Let's explore these two distributions computationally. You will compute the mean and standard deviation of samples from a Poisson distribution with an arrival rate of 10. Then, you will compute the mean and standard deviation of samples from a Binomial distribution with parameters `n` and `p` such that `np=10`."
   ]
  },
  {
   "cell_type": "code",
   "execution_count": 65,
   "metadata": {},
   "outputs": [
    {
     "name": "stdout",
     "output_type": "stream",
     "text": [
      "Poisson:      10.0305 3.1612924176671795\n"
     ]
    }
   ],
   "source": [
    "# Draw 10,000 samples out of Poisson distribution: samples_poisson\n",
    "samples_poisson =np.random.poisson(10, size =10000)\n",
    "\n",
    "# Print the mean and standard deviation\n",
    "print('Poisson:     ', np.mean(samples_poisson),\n",
    "                       np.std(samples_poisson))"
   ]
  },
  {
   "cell_type": "code",
   "execution_count": 67,
   "metadata": {},
   "outputs": [
    {
     "name": "stdout",
     "output_type": "stream",
     "text": [
      "n = 20 Binom: 9.995 2.2146275081828097\n",
      "n = 100 Binom: 10.0857 3.0228059001530347\n",
      "n = 1000 Binom: 10.0205 3.1281431792678545\n"
     ]
    }
   ],
   "source": [
    "# Specify values of n and p to consider for Binomial: n, p\n",
    "\n",
    "# Specify values of n and p to consider for Binomial: n, p\n",
    "\n",
    "n = [20, 100, 1000]\n",
    "p = [0.5, 0.1, 0.01]\n",
    "\n",
    "# Draw 10,000 samples for each n,p pair: samples_binomial\n",
    "for i in range(3):\n",
    "    samples_binomial = np.random.binomial(n[i],p[i], size=10000)\n",
    "\n",
    "    # Print results\n",
    "    print('n =', n[i], 'Binom:', np.mean(samples_binomial),\n",
    "                                 np.std(samples_binomial))\n"
   ]
  },
  {
   "cell_type": "markdown",
   "metadata": {},
   "source": [
    "# Was 2015 anomalous?\n",
    "1990 and 2015 featured the most no-hitters of any season of baseball (there were seven). Given that there are on average 251/115 no-hitters per season, what is the probability of having seven or more in a season?"
   ]
  },
  {
   "cell_type": "code",
   "execution_count": 69,
   "metadata": {},
   "outputs": [
    {
     "name": "stdout",
     "output_type": "stream",
     "text": [
      "Probability of seven or more no-hitters: 0.0061\n"
     ]
    }
   ],
   "source": [
    "# Draw 10,000 samples out of Poisson distribution: n_nohitters\n",
    "n_nohitters = np.random.poisson(251/115,size = 10000) \n",
    "\n",
    "# Compute number of samples that are seven or greater: n_large\n",
    "n_large = np.sum(n_nohitters>=7)\n",
    "\n",
    "# Compute probability of getting seven or more: p_large\n",
    "p_large  = n_large/10000\n",
    "\n",
    "# Print the result\n",
    "print('Probability of seven or more no-hitters:', p_large)\n",
    "\n",
    "# the probability is .007, that is it is not that improbable to see 7 or more no hitter season in the country"
   ]
  },
  {
   "cell_type": "markdown",
   "metadata": {},
   "source": [
    "# Probability Density Functions"
   ]
  },
  {
   "cell_type": "markdown",
   "metadata": {},
   "source": [
    "Till now, we have focussed on discrete probability function, what if the targetted measure is continuous, then the probabilty of set of values is defined by PDF.\n",
    "\n",
    "Hence, PDF is\n",
    "\n",
    "    - continuous analog to PMF\n",
    "    - Mathematiical description of relative likelihood of observing a value of a continuous variable\n",
    "    - Area under the curve provides Probability"
   ]
  },
  {
   "cell_type": "markdown",
   "metadata": {},
   "source": [
    "# Normal Distribution \n",
    "\n",
    "> Parameterised by 2 parameters - mean and standard deviation of a PARAMETER\n",
    "\n",
    "`np.random.normal(mean, std dev, size)`"
   ]
  },
  {
   "cell_type": "markdown",
   "metadata": {},
   "source": [
    "# Exponential Distriibution:\n",
    "    > The waiting time between arrivals of a Poisson process is exponentially distributed\n",
    "    > The Exponential distribution describes the waiting times between rare events.\n",
    "    \n",
    "   `np.random.exponential(mean, size)`"
   ]
  }
 ],
 "metadata": {
  "kernelspec": {
   "display_name": "Python 3",
   "language": "python",
   "name": "python3"
  },
  "language_info": {
   "codemirror_mode": {
    "name": "ipython",
    "version": 3
   },
   "file_extension": ".py",
   "mimetype": "text/x-python",
   "name": "python",
   "nbconvert_exporter": "python",
   "pygments_lexer": "ipython3",
   "version": "3.7.6"
  }
 },
 "nbformat": 4,
 "nbformat_minor": 4
}
