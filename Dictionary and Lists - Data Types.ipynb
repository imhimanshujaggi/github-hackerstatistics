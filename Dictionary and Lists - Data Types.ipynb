{
 "cells": [
  {
   "cell_type": "markdown",
   "metadata": {},
   "source": [
    "## Python - Learning Dictionary and List data types"
   ]
  },
  {
   "cell_type": "code",
   "execution_count": 1,
   "metadata": {},
   "outputs": [],
   "source": [
    "#creating a dictionary with family particulars.\n",
    "fam ={'Wife': ['F','30','DigitalMarketing'],\n",
    "     'Husband':['M','34','Analytics']}"
   ]
  },
  {
   "cell_type": "code",
   "execution_count": 2,
   "metadata": {},
   "outputs": [
    {
     "data": {
      "text/plain": [
       "{'Wife': ['F', '30', 'DigitalMarketing'], 'Husband': ['M', '34', 'Analytics']}"
      ]
     },
     "execution_count": 2,
     "metadata": {},
     "output_type": "execute_result"
    }
   ],
   "source": [
    "fam"
   ]
  },
  {
   "cell_type": "code",
   "execution_count": 3,
   "metadata": {},
   "outputs": [
    {
     "name": "stdout",
     "output_type": "stream",
     "text": [
      "Wife\n",
      "['F', '30', 'DigitalMarketing']\n",
      "Husband\n",
      "['M', '34', 'Analytics']\n"
     ]
    }
   ],
   "source": [
    "# Depends on what one wants to retrieve, the following syntax's can be used.\n",
    "#  General way to extract - key,value is to loop through the entire dictionary using \"items\" keyword\n",
    "\n",
    "for key,value in fam.items():\n",
    "    print(key)\n",
    "    print(value)"
   ]
  },
  {
   "cell_type": "code",
   "execution_count": 7,
   "metadata": {},
   "outputs": [
    {
     "name": "stdout",
     "output_type": "stream",
     "text": [
      "Wife\n",
      "Husband\n",
      "Husband\n",
      "Wife\n"
     ]
    }
   ],
   "source": [
    "# looping through all the keys:\n",
    "for k in fam.keys():\n",
    "    print(k)  \n",
    "# accessing keys in a sorted format - use keyword - sorted\n",
    "\n",
    "for k in sorted(fam.keys()):\n",
    "    print(k)"
   ]
  },
  {
   "cell_type": "code",
   "execution_count": 8,
   "metadata": {},
   "outputs": [
    {
     "name": "stdout",
     "output_type": "stream",
     "text": [
      "['F', '30', 'DigitalMarketing']\n",
      "['M', '34', 'Analytics']\n"
     ]
    }
   ],
   "source": [
    "# looping through all values\n",
    "for v in fam.values():\n",
    "    print(v)  "
   ]
  },
  {
   "cell_type": "code",
   "execution_count": 9,
   "metadata": {},
   "outputs": [
    {
     "data": {
      "text/plain": [
       "{'Wife': ['F', '30', 'DigitalMarketing'],\n",
       " 'Husband': ['M', '34', 'Analytics'],\n",
       " 'BrotherInLaw': ['M', '34', 'Analytics']}"
      ]
     },
     "execution_count": 9,
     "metadata": {},
     "output_type": "execute_result"
    }
   ],
   "source": [
    "# imagine there is another member in family, let's say -Brother in law, who is also has the same particulars -  ['M','34','Analytics']\n",
    "# adding a new member in the dictionary is straightforward = dicyname['key']='value'\n",
    "fam['BrotherInLaw'] = ['M','34','Analytics']\n",
    "fam  #succesfully added. - note that the values are duplicate, both husband and brother in law has same values\n"
   ]
  },
  {
   "cell_type": "code",
   "execution_count": 14,
   "metadata": {},
   "outputs": [
    {
     "data": {
      "text/plain": [
       "{'Wife': ['F', '30', 'DigitalMarketing'],\n",
       " 'Husband': ['M', '34', 'Analytics'],\n",
       " 'BrotherInLaw': ['M', '23', 'Product']}"
      ]
     },
     "execution_count": 14,
     "metadata": {},
     "output_type": "execute_result"
    }
   ],
   "source": [
    "# just realized that the age and skills in not correct, and need to updated\n",
    "fam['BrotherInLaw'] = ['M','23','Product']\n",
    "fam"
   ]
  },
  {
   "cell_type": "code",
   "execution_count": 16,
   "metadata": {},
   "outputs": [
    {
     "data": {
      "text/plain": [
       "{'Wife': ['F', '30', 'DigitalMarketing'],\n",
       " 'Husband': ['M', '34', 'Analytics'],\n",
       " 'BrotherInLaw': ['M', '24', 'Product']}"
      ]
     },
     "execution_count": 16,
     "metadata": {},
     "output_type": "execute_result"
    }
   ],
   "source": [
    "# update the age from 23 to 24\n",
    "#iterate \n",
    "for key,value in fam.items():\n",
    "    if key == 'BrotherInLaw':\n",
    "        value[1]='24'\n",
    "fam"
   ]
  },
  {
   "cell_type": "code",
   "execution_count": 17,
   "metadata": {},
   "outputs": [],
   "source": [
    "#Nested dictionary\n",
    "member1= {'age':'30', 'skills':'DigitalMarketing'}\n",
    "member2 ={'age':'34', 'skills':'Analytics'}\n",
    "member3 = {'age':'29','skills':'MachineLearning'}"
   ]
  },
  {
   "cell_type": "code",
   "execution_count": 18,
   "metadata": {},
   "outputs": [
    {
     "data": {
      "text/plain": [
       "[{'age': '30', 'skills': 'DigitalMarketing'},\n",
       " {'age': '34', 'skills': 'Analytics'},\n",
       " {'age': '29', 'skills': 'MachineLearning'}]"
      ]
     },
     "execution_count": 18,
     "metadata": {},
     "output_type": "execute_result"
    }
   ],
   "source": [
    "fam =[member1,member2,member3]\n",
    "fam"
   ]
  },
  {
   "cell_type": "code",
   "execution_count": 37,
   "metadata": {},
   "outputs": [
    {
     "data": {
      "text/plain": [
       "[{'age': '30', 'skills': 'DigitalMarketing'},\n",
       " {'age': '34', 'skills': 'machine_learning and analytics'},\n",
       " {'age': '29', 'skills': 'MachineLearning'}]"
      ]
     },
     "execution_count": 37,
     "metadata": {},
     "output_type": "execute_result"
    }
   ],
   "source": [
    "#looping thro' nested dictionary\n",
    "for member in fam:  #looping through list; get every member in family\n",
    "    for key,value in member.items(): # looping through dictionary, key.value pair\n",
    "        if key =='age' and value =='34':\n",
    "            member['skills'] ='machine_learning and analytics' #update the member skills \n",
    "fam             "
   ]
  },
  {
   "cell_type": "code",
   "execution_count": null,
   "metadata": {},
   "outputs": [],
   "source": []
  }
 ],
 "metadata": {
  "kernelspec": {
   "display_name": "Python 3",
   "language": "python",
   "name": "python3"
  },
  "language_info": {
   "codemirror_mode": {
    "name": "ipython",
    "version": 3
   },
   "file_extension": ".py",
   "mimetype": "text/x-python",
   "name": "python",
   "nbconvert_exporter": "python",
   "pygments_lexer": "ipython3",
   "version": "3.7.6"
  }
 },
 "nbformat": 4,
 "nbformat_minor": 4
}
